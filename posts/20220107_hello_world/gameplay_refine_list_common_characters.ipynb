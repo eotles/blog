{
 "cells": [
  {
   "cell_type": "code",
   "execution_count": 1,
   "id": "604780d2",
   "metadata": {},
   "outputs": [],
   "source": [
    "import json\n",
    "import re"
   ]
  },
  {
   "cell_type": "code",
   "execution_count": 2,
   "id": "6cc56cf0",
   "metadata": {},
   "outputs": [],
   "source": [
    "%load_ext autoreload\n",
    "%autoreload 1\n",
    "%aimport utils"
   ]
  },
  {
   "cell_type": "code",
   "execution_count": 3,
   "id": "8c62b850",
   "metadata": {},
   "outputs": [],
   "source": [
    "#heuristic solutions:\n",
    "#5. regex seach based on results"
   ]
  },
  {
   "cell_type": "code",
   "execution_count": 4,
   "id": "57438bcf",
   "metadata": {},
   "outputs": [],
   "source": [
    "#read data\n",
    "f = open('words.json')\n",
    "data = json.load(f)\n",
    "f.close()\n",
    "\n",
    "#we are interested in finding words that meet the regex of what we've observed\n",
    "solution_words = data['Aa']\n",
    "useable_words = solution_words + data['La']"
   ]
  },
  {
   "cell_type": "code",
   "execution_count": 5,
   "id": "0f4a2065",
   "metadata": {},
   "outputs": [],
   "source": [
    "def get_possible_solutions(green_char, yellow_char, banned_char, possible_solutions=solution_words):\n",
    "    yellow_char = set(yellow_char)\n",
    "    available_char = set('abcdefghijklmnopqrstuvwxyz') - banned_char\n",
    "    available_char_token = '[{}]'.format(','.join(available_char))\n",
    "    regex_search_string = green_char.replace('*', available_char_token) \n",
    "    yellow_char = set(yellow_char)\n",
    "    \n",
    "    print(regex_search_string)\n",
    "    \n",
    "    possible_solutions = []\n",
    "    for word in solution_words:\n",
    "        if re.search(regex_search_string, word) is not None:\n",
    "            if yellow_char.intersection(set(word)) == yellow_char:\n",
    "                possible_solutions.append(word)\n",
    "\n",
    "\n",
    "    c_word_count = {_: 0 for _ in list('abcdefghijklmnopqrstuvwxyz')}\n",
    "    for word in possible_solutions:\n",
    "        for c in utils.word_to_character_tuple(word):\n",
    "            c_word_count[c] += 1\n",
    "\n",
    "    ct_2_words = utils.make_ct_2_words(possible_solutions)\n",
    "\n",
    "\n",
    "    selected_c = []\n",
    "\n",
    "    for i in range(min(10, len(possible_solutions))):\n",
    "\n",
    "        for c in selected_c:\n",
    "            c_word_count[c] = 0\n",
    "\n",
    "        max_ct_word_count = 0\n",
    "        argmax_ct_word_count = None\n",
    "\n",
    "        for ct in ct_2_words:\n",
    "            ct_set = set(ct)\n",
    "            if ct_set == ct_set.intersection(available_char):\n",
    "                ct_word_count = sum([v for k,v in c_word_count.items() if k in ct])\n",
    "                if ct_word_count>=max_ct_word_count:\n",
    "                    max_ct_word_count = ct_word_count\n",
    "                    argmax_ct_word_count = ct\n",
    "\n",
    "        print('round: {}'.format(i))\n",
    "\n",
    "        print('{} → {}, {}\\n'.format(argmax_ct_word_count, ct_2_words[argmax_ct_word_count], max_ct_word_count))\n",
    "\n",
    "        selected_c += list(argmax_ct_word_count)"
   ]
  },
  {
   "cell_type": "code",
   "execution_count": 6,
   "id": "69b9fa6c",
   "metadata": {
    "scrolled": true
   },
   "outputs": [
    {
     "name": "stdout",
     "output_type": "stream",
     "text": [
      "[d,h,w,n,y,f,v,s,p,u,l,a,j,b,z,x,k,i,r,c,g,q,o,t,e,m][d,h,w,n,y,f,v,s,p,u,l,a,j,b,z,x,k,i,r,c,g,q,o,t,e,m][d,h,w,n,y,f,v,s,p,u,l,a,j,b,z,x,k,i,r,c,g,q,o,t,e,m][d,h,w,n,y,f,v,s,p,u,l,a,j,b,z,x,k,i,r,c,g,q,o,t,e,m][d,h,w,n,y,f,v,s,p,u,l,a,j,b,z,x,k,i,r,c,g,q,o,t,e,m]\n",
      "round: 0\n",
      "('a', 'e', 'l', 'r', 't') → ['later', 'alter', 'alert'], 4117\n",
      "\n",
      "round: 1\n",
      "('c', 'i', 'n', 'o', 's') → ['sonic', 'scion'], 2936\n",
      "\n",
      "round: 2\n",
      "('d', 'g', 'p', 'u', 'y') → ['pudgy'], 1890\n",
      "\n",
      "round: 3\n",
      "('b', 'h', 'm', 't', 'u') → ['thumb'], 944\n",
      "\n",
      "round: 4\n",
      "('c', 'e', 'f', 'k', 'l') → ['fleck'], 409\n",
      "\n",
      "round: 5\n",
      "('a', 'e', 'r', 'v', 'w') → ['waver'], 343\n",
      "\n",
      "round: 6\n",
      "('a', 'j', 'y', 'z') → ['jazzy'], 62\n",
      "\n",
      "round: 7\n",
      "('i', 't', 'w', 'x') → ['twixt'], 37\n",
      "\n",
      "round: 8\n",
      "('a', 'h', 'q', 's', 'u') → ['quash'], 29\n",
      "\n",
      "round: 9\n",
      "('a', 'e', 'h', 's', 'v') → ['shave'], 0\n",
      "\n"
     ]
    }
   ],
   "source": [
    "#user inputs ↓\n",
    "green_char = '*****'\n",
    "yellow_char = ''\n",
    "banned_char = set('')\n",
    "#user inputs ↑ \n",
    "\n",
    "get_possible_solutions(green_char, yellow_char, banned_char)"
   ]
  },
  {
   "cell_type": "code",
   "execution_count": 7,
   "id": "1e296155",
   "metadata": {},
   "outputs": [
    {
     "name": "stdout",
     "output_type": "stream",
     "text": [
      "[d,h,w,n,y,f,v,s,p,u,j,b,z,x,k,i,r,c,g,q,o,e,m][d,h,w,n,y,f,v,s,p,u,j,b,z,x,k,i,r,c,g,q,o,e,m]er[d,h,w,n,y,f,v,s,p,u,j,b,z,x,k,i,r,c,g,q,o,e,m]\n",
      "round: 0\n",
      "('e', 'f', 'i', 'r', 'y') → ['fiery'], 15\n",
      "\n",
      "round: 1\n",
      "('e', 'm', 'p', 'r', 's') → ['sperm'], 3\n",
      "\n",
      "round: 2\n",
      "('e', 'h', 'r', 'w') → ['where'], 2\n",
      "\n",
      "round: 3\n",
      "('e', 'q', 'r', 'u', 'y') → ['query'], 2\n",
      "\n",
      "round: 4\n",
      "('e', 'r', 'v', 'y') → ['every'], 1\n",
      "\n"
     ]
    }
   ],
   "source": [
    "#user inputs ↓\n",
    "green_char = '**er*'\n",
    "yellow_char = ''\n",
    "banned_char = set('alt')\n",
    "#user inputs ↑ \n",
    "\n",
    "get_possible_solutions(green_char, yellow_char, banned_char)"
   ]
  },
  {
   "cell_type": "code",
   "execution_count": 8,
   "id": "2adb0c6f",
   "metadata": {
    "scrolled": true
   },
   "outputs": [
    {
     "name": "stdout",
     "output_type": "stream",
     "text": [
      "[d,h,w,n,y,v,s,p,u,j,b,z,x,k,r,c,g,q,o,e,m][d,h,w,n,y,v,s,p,u,j,b,z,x,k,r,c,g,q,o,e,m]ery\n",
      "round: 0\n",
      "('e', 'q', 'r', 'u', 'y') → ['query'], 8\n",
      "\n",
      "round: 1\n",
      "('e', 'r', 'v', 'y') → ['every'], 1\n",
      "\n"
     ]
    }
   ],
   "source": [
    "#user inputs ↓\n",
    "green_char = '**ery'\n",
    "yellow_char = ''\n",
    "banned_char = set('fialt')\n",
    "#user inputs ↑ \n",
    "\n",
    "get_possible_solutions(green_char, yellow_char, banned_char)"
   ]
  }
 ],
 "metadata": {
  "kernelspec": {
   "display_name": "Python 3",
   "language": "python",
   "name": "python3"
  },
  "language_info": {
   "codemirror_mode": {
    "name": "ipython",
    "version": 3
   },
   "file_extension": ".py",
   "mimetype": "text/x-python",
   "name": "python",
   "nbconvert_exporter": "python",
   "pygments_lexer": "ipython3",
   "version": "3.9.2"
  }
 },
 "nbformat": 4,
 "nbformat_minor": 5
}
